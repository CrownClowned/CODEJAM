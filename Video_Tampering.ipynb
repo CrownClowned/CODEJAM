{
  "cells": [
    {
      "cell_type": "markdown",
      "metadata": {
        "id": "view-in-github",
        "colab_type": "text"
      },
      "source": [
        "<a href=\"https://colab.research.google.com/github/CrownClowned/CODEJAM/blob/main/Video_Tampering.ipynb\" target=\"_parent\"><img src=\"https://colab.research.google.com/assets/colab-badge.svg\" alt=\"Open In Colab\"/></a>"
      ]
    },
    {
      "cell_type": "markdown",
      "metadata": {
        "id": "TNisFxqqRHhP"
      },
      "source": [
        "***VIDEO PREPROCESSING***"
      ]
    },
    {
      "cell_type": "markdown",
      "metadata": {
        "id": "qh7-NGIntUFZ"
      },
      "source": [
        "## Import Libraries"
      ]
    },
    {
      "cell_type": "code",
      "execution_count": null,
      "metadata": {
        "id": "iz39eql7Mu8A"
      },
      "outputs": [],
      "source": [
        "import cv2\n",
        "import math\n",
        "import matplotlib.pyplot as plt\n",
        "import pandas as pd\n",
        "# from keras.preprocessing import image\n",
        "import numpy as np \n",
        "# from keras.utils import np_utils \n",
        "from skimage.transform import resize\n",
        "# import subprocess as sp\n",
        "# import multiprocessing as mp\n",
        "from skimage.feature import hog\n",
        "from skimage import exposure\n",
        "import itertools\n",
        "from sklearn.svm import SVC\n",
        "from sklearn.metrics import accuracy_score\n",
        "from sklearn.model_selection import cross_val_score\n",
        "from sklearn.model_selection import StratifiedKFold\n",
        "# from sklearn.linear_model import SGDClassifier\n",
        "from sklearn.model_selection import train_test_split\n",
        "from sklearn.preprocessing import StandardScaler\n",
        "from sklearn.linear_model import LogisticRegression\n",
        "import os\n",
        "from sklearn.metrics import confusion_matrix\n",
        "from sklearn import metrics\n",
        "import seaborn as sns\n",
        "import plotly.express as px\n",
        "# from sklearn.model_selection import StratifiedKFold"
      ]
    },
    {
      "cell_type": "code",
      "execution_count": null,
      "metadata": {
        "colab": {
          "base_uri": "https://localhost:8080/"
        },
        "id": "PIuNMzcWWRMt",
        "outputId": "355d9ddd-fd92-4493-a811-14a5ce7c8a2b"
      },
      "outputs": [
        {
          "output_type": "stream",
          "name": "stdout",
          "text": [
            "Mounted at /content/gdrive\n"
          ]
        }
      ],
      "source": [
        "from google.colab import drive\n",
        "drive.mount('/content/gdrive')"
      ]
    },
    {
      "cell_type": "code",
      "execution_count": null,
      "metadata": {
        "id": "liyzyzezJY0w"
      },
      "outputs": [],
      "source": [
        "training_set=[]\n",
        "training_labels=[]\n",
        "accuracy_array = []\n",
        "# cnn_frames_input=[]\n",
        "# cnn_labels_input=[]"
      ]
    },
    {
      "cell_type": "markdown",
      "source": [
        "## **PRE PROCESSING**"
      ],
      "metadata": {
        "id": "Gm6yaePJ7nvq"
      }
    },
    {
      "cell_type": "code",
      "execution_count": null,
      "metadata": {
        "id": "oGjZ576TtYgJ"
      },
      "outputs": [],
      "source": [
        "def pre_process(root,label):\n",
        "    # print(os.getcwd())\n",
        "    # label = 0\n",
        "    # root = os.path.join(os.getcwd(), 'gdrive/MyDrive/Tampered Video Dataset')\n",
        "    # filter = np.array([[-1, 0, 1], [-2, 0, 2], [-1, 0, 1]])\n",
        "    # for folder in os.listdir(root):\n",
        "    #   cwd = os.path.join(root + '/' + folder)\n",
        "    folder = (root.split(\"/\"))[-1]\n",
        "    print(folder)\n",
        "    # if(folder != 'Brightness' or folder != 'Original'):\n",
        "    #   return\n",
        "    # os.mkdir(folder)\n",
        "    for file in os.listdir(root):\n",
        "      cap = cv2.VideoCapture(os.path.join(root + '/' + file)) \n",
        "      # print(cap.get(cv2.CAP_PROP_POS_MSEC)) \n",
        "      # os.mkdir(folder+\"/\"+file[:-4])\n",
        "      i=0\n",
        "      # if (folder.startswith('Original')):\n",
        "      #       label=0\n",
        "      # else:\n",
        "      #       label=1\n",
        "\n",
        "      # frame_list=[]\n",
        "      cnn_per_frame=[]\n",
        "      # print(label)\n",
        "      while(cap.isOpened()):\n",
        "        # print(label)\n",
        "        retn, frame = cap.read()\n",
        "        # if(label == 0):\n",
        "        #   training_labels.append(0)\n",
        "        # else:\n",
        "        #   training_labels.append(1)\n",
        "        if(retn != True):\n",
        "          break\n",
        "        if (i%math.floor(20)==0):\n",
        "          frame1=frame\n",
        "          resized_img = resize(frame1, (64, 32),anti_aliasing=False)\n",
        "          resized = cv2.resize(frame1, (64,32), interpolation = cv2.INTER_AREA)\n",
        "          # cnn_frames_input.append(resized)\n",
        "          # cnn_labels_input.append(label)\n",
        "          feature_list=[]\n",
        "\n",
        "          gray_img = cv2.cvtColor(resized, cv2.COLOR_BGR2GRAY)\n",
        "          blur_img = cv2.GaussianBlur(gray_img,(5,5),cv2.BORDER_DEFAULT)\n",
        "          edgex = cv2.Sobel(blur_img,cv2.CV_8U,1,0,ksize=5)\n",
        "          edgey = cv2.Sobel(blur_img,cv2.CV_8U,0,1,ksize=5)\n",
        "          img_sobel = edgex + edgey\n",
        "        \n",
        "          fd, hog_image = hog(resized_img, orientations=9, pixels_per_cell=(8, 8),cells_per_block=(2, 2), visualize=True, multichannel=True)\n",
        "\n",
        "          img_sobel2=list(itertools.chain(*img_sobel))\n",
        "          hog_img2=list(itertools.chain(*hog_image))\n",
        "\n",
        "          feature_list=img_sobel2+hog_img2\n",
        "          training_set.append(feature_list)\n",
        "          training_labels.append(label)\n",
        "          # print(training_labels)\n",
        "          \n",
        "\n",
        "        i = i+1\n",
        "\n",
        "  \n",
        "      \n",
        "      cap.release()\n",
        "      cv2.destroyAllWindows()\n",
        "    # root = 'gdrive/MyDrive/Tampered Video Dataset'\n",
        "    # print(os.listdir(root))"
      ]
    },
    {
      "cell_type": "markdown",
      "source": [
        "# **TRAIN AND PREDICT BRIGHTNESS**"
      ],
      "metadata": {
        "id": "_CQQ08C77uUz"
      }
    },
    {
      "cell_type": "code",
      "source": [
        "root = os.path.join(os.getcwd(), 'gdrive/MyDrive/Tampered Video Dataset')\n",
        "# os.mkdir(\"Augmented_brightness\")\n",
        "count=0\n",
        "for folder in os.listdir(root):\n",
        "  cwd = os.path.join(root + '/' + folder)\n",
        "  print(cwd)\n",
        "  if cwd=='/content/gdrive/MyDrive/Tampered Video Dataset/Original' :\n",
        "    pre_process(cwd,0)\n",
        "  else:\n",
        "    for ifolder in os.listdir(cwd):\n",
        "      print(ifolder)\n",
        "      if(ifolder == 'Brightness'):\n",
        "        wd = os.path.join(cwd + '/' + ifolder)\n",
        "        pre_process(wd,1)"
      ],
      "metadata": {
        "colab": {
          "base_uri": "https://localhost:8080/"
        },
        "id": "C_7JRRzGbMha",
        "outputId": "4f1e9795-6e55-4b20-cd7c-6484520dd7d0"
      },
      "execution_count": null,
      "outputs": [
        {
          "output_type": "stream",
          "name": "stdout",
          "text": [
            "/content/gdrive/MyDrive/Tampered Video Dataset/video_pro2\n",
            "Shearing\n",
            "Scaling\n",
            "Flipping\n",
            "Rotation\n",
            "RGB\n",
            "Brightness\n",
            "Brightness\n",
            "/content/gdrive/MyDrive/Tampered Video Dataset/video_pro1\n",
            "Scaling\n",
            "Shearing\n",
            "Rotation\n",
            "RGB\n",
            "Multiple\n",
            "Flipping\n",
            "Brightness\n",
            "Brightness\n",
            "/content/gdrive/MyDrive/Tampered Video Dataset/video_pro4\n",
            "Scaling\n",
            "Rotation\n",
            "Shearing\n",
            "RGB\n",
            "Multiple\n",
            "Flipping\n",
            "Brightness\n",
            "Brightness\n",
            "/content/gdrive/MyDrive/Tampered Video Dataset/video_pro5\n",
            "Scaling\n",
            "Shearing\n",
            "Rotation\n",
            "RGB\n",
            "Flipping\n",
            "Brightness\n",
            "Brightness\n",
            "/content/gdrive/MyDrive/Tampered Video Dataset/video_pro3\n",
            "Shearing\n",
            "Scaling\n",
            "RGB\n",
            "Flipping\n",
            "Rotation\n",
            "Brightness\n",
            "Brightness\n",
            "/content/gdrive/MyDrive/Tampered Video Dataset/Original\n",
            "Original\n"
          ]
        }
      ]
    },
    {
      "cell_type": "code",
      "execution_count": null,
      "metadata": {
        "id": "FLVR64Oz1AH3",
        "colab": {
          "base_uri": "https://localhost:8080/"
        },
        "outputId": "3fc448bf-cfd6-426c-a157-47fe5fa41a5a"
      },
      "outputs": [
        {
          "output_type": "stream",
          "name": "stdout",
          "text": [
            "4096\n"
          ]
        }
      ],
      "source": [
        "print(len(training_set[0]))\n",
        "# print(training_labels)\n",
        "# print(training_set)"
      ]
    },
    {
      "cell_type": "code",
      "source": [
        "# plt.hist(training_set)\n",
        "# plt.title(\"Training Set Histogram\")\n",
        "# plt.show()"
      ],
      "metadata": {
        "id": "QzXJ7vm0F-0u"
      },
      "execution_count": null,
      "outputs": []
    },
    {
      "cell_type": "code",
      "execution_count": null,
      "metadata": {
        "id": "82TMdwddM-Vl"
      },
      "outputs": [],
      "source": [
        "from sklearn.svm import SVC\n",
        "from sklearn.metrics import accuracy_score\n",
        "from sklearn.model_selection import cross_val_score\n",
        "from sklearn.model_selection import StratifiedKFold\n",
        "# from sklearn.linear_model import SGDClassifier\n",
        "from sklearn.preprocessing import StandardScaler\n",
        "# from sklearn.model_selection import StratifiedKFold"
      ]
    },
    {
      "cell_type": "code",
      "execution_count": null,
      "metadata": {
        "id": "xfwr66QwyrOW",
        "colab": {
          "base_uri": "https://localhost:8080/"
        },
        "outputId": "229e2f72-4e82-480f-c7af-4af02d4d63f2"
      },
      "outputs": [
        {
          "output_type": "stream",
          "name": "stdout",
          "text": [
            "321\n",
            "[0 1]\n"
          ]
        }
      ],
      "source": [
        "print(len(training_labels))\n",
        "print(np.unique(training_labels))"
      ]
    },
    {
      "cell_type": "code",
      "source": [
        "def lr():\n",
        "  xtrain, xtest, ytrain, ytest = train_test_split(\n",
        "          training_set, training_labels, test_size = 0.25, random_state = 0)\n",
        "  sc_x = StandardScaler()\n",
        "  xtrain = sc_x.fit_transform(xtrain)\n",
        "  xtest = sc_x.transform(xtest)\n",
        "  classifier = LogisticRegression(random_state = 2, max_iter=500)\n",
        "  classifier.fit(xtrain, ytrain)\n",
        "  y_pred = classifier.predict(xtest)\n",
        "  cm = confusion_matrix(ytest, y_pred, normalize='true') \n",
        "  print (\"Confusion Matrix : \\n\", cm)\n",
        "  print(\"\\n\")\n",
        "  ac = metrics.accuracy_score(ytest, y_pred)\n",
        "  accuracy_array.append(ac)\n",
        "  print (\"Accuracy : \", ac)\n",
        "  print(\"\\n\")\n",
        "  print(\"Precision : \", metrics.precision_score(ytest, y_pred))\n",
        "  print(\"\\n\")\n",
        "  prob = [0 for i in range(len(ytest))]\n",
        "  fpr, tpr, _ = metrics.roc_curve(ytest, prob)\n",
        "  lfpr, ltpr, _ = metrics.roc_curve(ytest, y_pred)\n",
        "  plt.plot(fpr, tpr, linestyle=\"--\", label='No Skill')\n",
        "  plt.plot(lfpr, ltpr, marker=\".\", label='Logistics')\n",
        "  plt.xlabel(\"False Positive Rate\")\n",
        "  plt.ylabel(\"True Positive Rate\")\n",
        "  plt.legend()\n",
        "  # plt.scatter(lfpr, ltpr) \n",
        "  plt.show()\n",
        "  print(\"\\n\")\n",
        "  plot(cm)\n",
        "  # plt.hist(cm[0][1],cm[1][0],density = True, histtype = 'bar',color = 'Blue', label = 'Black')\n",
        "  # plt.legend()\n",
        "  # plt.show()\n"
      ],
      "metadata": {
        "id": "RNHVrD5yr-3P"
      },
      "execution_count": null,
      "outputs": []
    },
    {
      "cell_type": "code",
      "source": [
        "def plot(cm):\n",
        "  plt.figure()\n",
        "  sns.heatmap(cm, annot=True)\n",
        "  plt.xlabel('Prediction')\n",
        "  plt.ylabel('Target')\n",
        "  plt.title('Testing Confusion Matrix')\n",
        "  # plt.hist(cm[0][1],cm[1][0],density = True, histtype = 'bar',color = 'Blue', label = 'Black')\n",
        "  # plt.legend()\n",
        "  # plt.show()\n",
        "\n",
        "# px.scatter(training_labels.sample(10),title=\"Testing Confusion Matrix\",x='Target',y='Prediction')"
      ],
      "metadata": {
        "id": "ZWrpo0oxtEAG"
      },
      "execution_count": null,
      "outputs": []
    },
    {
      "cell_type": "code",
      "source": [
        "lr()"
      ],
      "metadata": {
        "colab": {
          "base_uri": "https://localhost:8080/",
          "height": 783
        },
        "id": "qSoHs0Ae4Nfz",
        "outputId": "a05cce48-4f5c-4931-944c-4d527b64aa0d"
      },
      "execution_count": null,
      "outputs": [
        {
          "output_type": "stream",
          "name": "stdout",
          "text": [
            "Confusion Matrix : \n",
            " [[0.76470588 0.23529412]\n",
            " [0.03125    0.96875   ]]\n",
            "\n",
            "\n",
            "Accuracy :  0.9259259259259259\n",
            "\n",
            "\n",
            "Precision :  0.9393939393939394\n",
            "\n",
            "\n"
          ]
        },
        {
          "output_type": "display_data",
          "data": {
            "text/plain": [
              "<Figure size 432x288 with 1 Axes>"
            ],
            "image/png": "[encoded data removed]"
          },
          "metadata": {
            "needs_background": "light"
          }
        },
        {
          "output_type": "stream",
          "name": "stdout",
          "text": [
            "\n",
            "\n"
          ]
        },
        {
          "output_type": "display_data",
          "data": {
            "text/plain": [
              "<Figure size 432x288 with 2 Axes>"
            ],
            "image/png": "[encoded data removed]"
          },
          "metadata": {
            "needs_background": "light"
          }
        }
      ]
    },
    {
      "cell_type": "markdown",
      "source": [
        "# **TRAIN AND PREDICT SHEARING**"
      ],
      "metadata": {
        "id": "qIZrJB678MAn"
      }
    },
    {
      "cell_type": "code",
      "source": [
        "training_set=[]\n",
        "training_labels=[]\n",
        "root = os.path.join(os.getcwd(), 'gdrive/MyDrive/Tampered Video Dataset')\n",
        "# os.mkdir(\"Augmented_brightness\")\n",
        "count=0\n",
        "for folder in os.listdir(root):\n",
        "  cwd = os.path.join(root + '/' + folder)\n",
        "  print(cwd)\n",
        "  if cwd=='/content/gdrive/MyDrive/Tampered Video Dataset/Original' :\n",
        "    pre_process(cwd,0)\n",
        "  else:\n",
        "    for ifolder in os.listdir(cwd):\n",
        "      print(ifolder)\n",
        "      if(ifolder == 'Shearing'):\n",
        "        wd = os.path.join(cwd + '/' + ifolder)\n",
        "        pre_process(wd,1)"
      ],
      "metadata": {
        "colab": {
          "base_uri": "https://localhost:8080/"
        },
        "id": "5Eg_1ZYQtK8o",
        "outputId": "b2db2250-161c-481d-87f7-aa765a371ff4"
      },
      "execution_count": null,
      "outputs": [
        {
          "output_type": "stream",
          "name": "stdout",
          "text": [
            "/content/gdrive/MyDrive/Tampered Video Dataset/video_pro2\n",
            "Shearing\n",
            "Shearing\n",
            "Scaling\n",
            "Flipping\n",
            "Rotation\n",
            "RGB\n",
            "Brightness\n",
            "/content/gdrive/MyDrive/Tampered Video Dataset/video_pro1\n",
            "Scaling\n",
            "Shearing\n",
            "Shearing\n",
            "Rotation\n",
            "RGB\n",
            "Multiple\n",
            "Flipping\n",
            "Brightness\n",
            "/content/gdrive/MyDrive/Tampered Video Dataset/video_pro4\n",
            "Scaling\n",
            "Rotation\n",
            "Shearing\n",
            "Shearing\n",
            "RGB\n",
            "Multiple\n",
            "Flipping\n",
            "Brightness\n",
            "/content/gdrive/MyDrive/Tampered Video Dataset/video_pro5\n",
            "Scaling\n",
            "Shearing\n",
            "Shearing\n",
            "Rotation\n",
            "RGB\n",
            "Flipping\n",
            "Brightness\n",
            "/content/gdrive/MyDrive/Tampered Video Dataset/video_pro3\n",
            "Shearing\n",
            "Shearing\n",
            "Scaling\n",
            "RGB\n",
            "Flipping\n",
            "Rotation\n",
            "Brightness\n",
            "/content/gdrive/MyDrive/Tampered Video Dataset/Original\n",
            "Original\n"
          ]
        }
      ]
    },
    {
      "cell_type": "code",
      "source": [
        "lr()"
      ],
      "metadata": {
        "colab": {
          "base_uri": "https://localhost:8080/",
          "height": 783
        },
        "id": "Qtc-vIWGtTSc",
        "outputId": "4512bf0c-0072-4b34-9da1-7eac882edc34"
      },
      "execution_count": null,
      "outputs": [
        {
          "output_type": "stream",
          "name": "stdout",
          "text": [
            "Confusion Matrix : \n",
            " [[0.55555556 0.44444444]\n",
            " [0.21212121 0.78787879]]\n",
            "\n",
            "\n",
            "Accuracy :  0.7058823529411765\n",
            "\n",
            "\n",
            "Precision :  0.7647058823529411\n",
            "\n",
            "\n"
          ]
        },
        {
          "output_type": "display_data",
          "data": {
            "text/plain": [
              "<Figure size 432x288 with 1 Axes>"
            ],
            "image/png": "[encoded data removed]"
          },
          "metadata": {
            "needs_background": "light"
          }
        },
        {
          "output_type": "stream",
          "name": "stdout",
          "text": [
            "\n",
            "\n"
          ]
        },
        {
          "output_type": "display_data",
          "data": {
            "text/plain": [
              "<Figure size 432x288 with 2 Axes>"
            ],
            "image/png": "[encoded data removed]"
          },
          "metadata": {
            "needs_background": "light"
          }
        }
      ]
    },
    {
      "cell_type": "markdown",
      "source": [
        "# **TRAIN AND PREDICT ROTATION**"
      ],
      "metadata": {
        "id": "SNYJ380a8SYg"
      }
    },
    {
      "cell_type": "code",
      "source": [
        "training_set=[]\n",
        "training_labels=[]\n",
        "root = os.path.join(os.getcwd(), 'gdrive/MyDrive/Tampered Video Dataset')\n",
        "# os.mkdir(\"Augmented_brightness\")\n",
        "count=0\n",
        "for folder in os.listdir(root):\n",
        "  cwd = os.path.join(root + '/' + folder)\n",
        "  print(cwd)\n",
        "  if cwd=='/content/gdrive/MyDrive/Tampered Video Dataset/Original' :\n",
        "    pre_process(cwd,0)\n",
        "  else:\n",
        "    for ifolder in os.listdir(cwd):\n",
        "      print(ifolder)\n",
        "      if(ifolder == 'Rotation'):\n",
        "        wd = os.path.join(cwd + '/' + ifolder)\n",
        "        pre_process(wd,1)"
      ],
      "metadata": {
        "colab": {
          "base_uri": "https://localhost:8080/"
        },
        "id": "_xKzWgPauCkB",
        "outputId": "2c8f5157-3a13-4b7c-8027-9016d4240975"
      },
      "execution_count": null,
      "outputs": [
        {
          "output_type": "stream",
          "name": "stdout",
          "text": [
            "/content/gdrive/MyDrive/Tampered Video Dataset/video_pro2\n",
            "Shearing\n",
            "Scaling\n",
            "Flipping\n",
            "Rotation\n",
            "Rotation\n",
            "RGB\n",
            "Brightness\n",
            "/content/gdrive/MyDrive/Tampered Video Dataset/video_pro1\n",
            "Scaling\n",
            "Shearing\n",
            "Rotation\n",
            "Rotation\n",
            "RGB\n",
            "Multiple\n",
            "Flipping\n",
            "Brightness\n",
            "/content/gdrive/MyDrive/Tampered Video Dataset/video_pro4\n",
            "Scaling\n",
            "Rotation\n",
            "Rotation\n",
            "Shearing\n",
            "RGB\n",
            "Multiple\n",
            "Flipping\n",
            "Brightness\n",
            "/content/gdrive/MyDrive/Tampered Video Dataset/video_pro5\n",
            "Scaling\n",
            "Shearing\n",
            "Rotation\n",
            "Rotation\n",
            "RGB\n",
            "Flipping\n",
            "Brightness\n",
            "/content/gdrive/MyDrive/Tampered Video Dataset/video_pro3\n",
            "Shearing\n",
            "Scaling\n",
            "RGB\n",
            "Flipping\n",
            "Rotation\n",
            "Rotation\n",
            "Brightness\n",
            "/content/gdrive/MyDrive/Tampered Video Dataset/Original\n",
            "Original\n"
          ]
        }
      ]
    },
    {
      "cell_type": "code",
      "source": [
        "lr()"
      ],
      "metadata": {
        "colab": {
          "base_uri": "https://localhost:8080/",
          "height": 783
        },
        "id": "3ccHxuF1uHxL",
        "outputId": "87d9beea-5083-47e1-ffad-deab4806a26b"
      },
      "execution_count": null,
      "outputs": [
        {
          "output_type": "stream",
          "name": "stdout",
          "text": [
            "Confusion Matrix : \n",
            " [[0.58333333 0.41666667]\n",
            " [0.12765957 0.87234043]]\n",
            "\n",
            "\n",
            "Accuracy :  0.7746478873239436\n",
            "\n",
            "\n",
            "Precision :  0.803921568627451\n",
            "\n",
            "\n"
          ]
        },
        {
          "output_type": "display_data",
          "data": {
            "text/plain": [
              "<Figure size 432x288 with 1 Axes>"
            ],
            "image/png": "[encoded data removed]"
          },
          "metadata": {
            "needs_background": "light"
          }
        },
        {
          "output_type": "stream",
          "name": "stdout",
          "text": [
            "\n",
            "\n"
          ]
        },
        {
          "output_type": "display_data",
          "data": {
            "text/plain": [
              "<Figure size 432x288 with 2 Axes>"
            ],
            "image/png": "[encoded data removed]"
          },
          "metadata": {
            "needs_background": "light"
          }
        }
      ]
    },
    {
      "cell_type": "markdown",
      "source": [
        "# **TRAIN AND PREDICT RGB**"
      ],
      "metadata": {
        "id": "lbJYZao-8Y6r"
      }
    },
    {
      "cell_type": "code",
      "source": [
        "training_set=[]\n",
        "training_labels=[]\n",
        "root = os.path.join(os.getcwd(), 'gdrive/MyDrive/Tampered Video Dataset')\n",
        "# os.mkdir(\"Augmented_brightness\")\n",
        "count=0\n",
        "for folder in os.listdir(root):\n",
        "  cwd = os.path.join(root + '/' + folder)\n",
        "  print(cwd)\n",
        "  if cwd=='/content/gdrive/MyDrive/Tampered Video Dataset/Original' :\n",
        "    pre_process(cwd,0)\n",
        "  else:\n",
        "    for ifolder in os.listdir(cwd):\n",
        "      print(ifolder)\n",
        "      if(ifolder == 'RGB'):\n",
        "        wd = os.path.join(cwd + '/' + ifolder)\n",
        "        pre_process(wd,1)"
      ],
      "metadata": {
        "colab": {
          "base_uri": "https://localhost:8080/"
        },
        "id": "qXV0xn6QuKR5",
        "outputId": "01cf4f67-fb1e-437e-9401-1a9c9b6f2cec"
      },
      "execution_count": null,
      "outputs": [
        {
          "output_type": "stream",
          "name": "stdout",
          "text": [
            "/content/gdrive/MyDrive/Tampered Video Dataset/video_pro2\n",
            "Shearing\n",
            "Scaling\n",
            "Flipping\n",
            "Rotation\n",
            "RGB\n",
            "RGB\n",
            "Brightness\n",
            "/content/gdrive/MyDrive/Tampered Video Dataset/video_pro1\n",
            "Scaling\n",
            "Shearing\n",
            "Rotation\n",
            "RGB\n",
            "RGB\n",
            "Multiple\n",
            "Flipping\n",
            "Brightness\n",
            "/content/gdrive/MyDrive/Tampered Video Dataset/video_pro4\n",
            "Scaling\n",
            "Rotation\n",
            "Shearing\n",
            "RGB\n",
            "RGB\n",
            "Multiple\n",
            "Flipping\n",
            "Brightness\n",
            "/content/gdrive/MyDrive/Tampered Video Dataset/video_pro5\n",
            "Scaling\n",
            "Shearing\n",
            "Rotation\n",
            "RGB\n",
            "RGB\n",
            "Flipping\n",
            "Brightness\n",
            "/content/gdrive/MyDrive/Tampered Video Dataset/video_pro3\n",
            "Shearing\n",
            "Scaling\n",
            "RGB\n",
            "RGB\n",
            "Flipping\n",
            "Rotation\n",
            "Brightness\n",
            "/content/gdrive/MyDrive/Tampered Video Dataset/Original\n",
            "Original\n"
          ]
        }
      ]
    },
    {
      "cell_type": "code",
      "source": [
        "lr()"
      ],
      "metadata": {
        "colab": {
          "base_uri": "https://localhost:8080/",
          "height": 783
        },
        "id": "VwaacU5j5SsL",
        "outputId": "39fc57e7-e14e-4839-b23f-3311ce311859"
      },
      "execution_count": null,
      "outputs": [
        {
          "output_type": "stream",
          "name": "stdout",
          "text": [
            "Confusion Matrix : \n",
            " [[0.45       0.55      ]\n",
            " [0.02040816 0.97959184]]\n",
            "\n",
            "\n",
            "Accuracy :  0.8260869565217391\n",
            "\n",
            "\n",
            "Precision :  0.8135593220338984\n",
            "\n",
            "\n"
          ]
        },
        {
          "output_type": "display_data",
          "data": {
            "text/plain": [
              "<Figure size 432x288 with 1 Axes>"
            ],
            "image/png": "[encoded data removed]"
          },
          "metadata": {
            "needs_background": "light"
          }
        },
        {
          "output_type": "stream",
          "name": "stdout",
          "text": [
            "\n",
            "\n"
          ]
        },
        {
          "output_type": "display_data",
          "data": {
            "text/plain": [
              "<Figure size 432x288 with 2 Axes>"
            ],
            "image/png": "[encoded data removed]"
          },
          "metadata": {
            "needs_background": "light"
          }
        }
      ]
    },
    {
      "cell_type": "markdown",
      "source": [
        "# **TRAIN AND PREDICT SCALING**"
      ],
      "metadata": {
        "id": "hxVzl0o18fzp"
      }
    },
    {
      "cell_type": "code",
      "source": [
        "training_set=[]\n",
        "training_labels=[]\n",
        "root = os.path.join(os.getcwd(), 'gdrive/MyDrive/Tampered Video Dataset')\n",
        "# os.mkdir(\"Augmented_brightness\")\n",
        "count=0\n",
        "for folder in os.listdir(root):\n",
        "  cwd = os.path.join(root + '/' + folder)\n",
        "  print(cwd)\n",
        "  if cwd=='/content/gdrive/MyDrive/Tampered Video Dataset/Original' :\n",
        "    pre_process(cwd,0)\n",
        "  else:\n",
        "    for ifolder in os.listdir(cwd):\n",
        "      print(ifolder)\n",
        "      if(ifolder == 'Scaling'):\n",
        "        wd = os.path.join(cwd + '/' + ifolder)\n",
        "        pre_process(wd,1)"
      ],
      "metadata": {
        "colab": {
          "base_uri": "https://localhost:8080/"
        },
        "id": "OobMUHCD5WCl",
        "outputId": "2045a6da-bcc0-4eb9-d4ab-0f5c2f78251e"
      },
      "execution_count": null,
      "outputs": [
        {
          "output_type": "stream",
          "name": "stdout",
          "text": [
            "/content/gdrive/MyDrive/Tampered Video Dataset/video_pro2\n",
            "Shearing\n",
            "Scaling\n",
            "Scaling\n",
            "Flipping\n",
            "Rotation\n",
            "RGB\n",
            "Brightness\n",
            "/content/gdrive/MyDrive/Tampered Video Dataset/video_pro1\n",
            "Scaling\n",
            "Scaling\n",
            "Shearing\n",
            "Rotation\n",
            "RGB\n",
            "Multiple\n",
            "Flipping\n",
            "Brightness\n",
            "/content/gdrive/MyDrive/Tampered Video Dataset/video_pro4\n",
            "Scaling\n",
            "Scaling\n",
            "Rotation\n",
            "Shearing\n",
            "RGB\n",
            "Multiple\n",
            "Flipping\n",
            "Brightness\n",
            "/content/gdrive/MyDrive/Tampered Video Dataset/video_pro5\n",
            "Scaling\n",
            "Scaling\n",
            "Shearing\n",
            "Rotation\n",
            "RGB\n",
            "Flipping\n",
            "Brightness\n",
            "/content/gdrive/MyDrive/Tampered Video Dataset/video_pro3\n",
            "Shearing\n",
            "Scaling\n",
            "Scaling\n",
            "RGB\n",
            "Flipping\n",
            "Rotation\n",
            "Brightness\n",
            "/content/gdrive/MyDrive/Tampered Video Dataset/Original\n",
            "Original\n"
          ]
        }
      ]
    },
    {
      "cell_type": "code",
      "source": [
        "lr()"
      ],
      "metadata": {
        "colab": {
          "base_uri": "https://localhost:8080/",
          "height": 783
        },
        "id": "Q8NrgBim5lJo",
        "outputId": "a3cb9cbb-efce-42bb-8ff1-022b136ab3dc"
      },
      "execution_count": null,
      "outputs": [
        {
          "output_type": "stream",
          "name": "stdout",
          "text": [
            "Confusion Matrix : \n",
            " [[0.55       0.45      ]\n",
            " [0.19354839 0.80645161]]\n",
            "\n",
            "\n",
            "Accuracy :  0.7058823529411765\n",
            "\n",
            "\n",
            "Precision :  0.7352941176470589\n",
            "\n",
            "\n"
          ]
        },
        {
          "output_type": "display_data",
          "data": {
            "text/plain": [
              "<Figure size 432x288 with 1 Axes>"
            ],
            "image/png": "[encoded data removed]"
          },
          "metadata": {
            "needs_background": "light"
          }
        },
        {
          "output_type": "stream",
          "name": "stdout",
          "text": [
            "\n",
            "\n"
          ]
        },
        {
          "output_type": "display_data",
          "data": {
            "text/plain": [
              "<Figure size 432x288 with 2 Axes>"
            ],
            "image/png": "[encoded data removed]"
          },
          "metadata": {
            "needs_background": "light"
          }
        }
      ]
    },
    {
      "cell_type": "markdown",
      "source": [
        "# **TRAIN AND PREDICT FLIPPING**"
      ],
      "metadata": {
        "id": "fr5wkRhd8nAu"
      }
    },
    {
      "cell_type": "code",
      "source": [
        "training_set=[]\n",
        "training_labels=[]\n",
        "root = os.path.join(os.getcwd(), 'gdrive/MyDrive/Tampered Video Dataset')\n",
        "# os.mkdir(\"Augmented_brightness\")\n",
        "count=0\n",
        "for folder in os.listdir(root):\n",
        "  cwd = os.path.join(root + '/' + folder)\n",
        "  print(cwd)\n",
        "  if cwd=='/content/gdrive/MyDrive/Tampered Video Dataset/Original' :\n",
        "    pre_process(cwd,0)\n",
        "  else:\n",
        "    for ifolder in os.listdir(cwd):\n",
        "      print(ifolder)\n",
        "      if(ifolder == 'Flipping'):\n",
        "        wd = os.path.join(cwd + '/' + ifolder)\n",
        "        pre_process(wd,1)"
      ],
      "metadata": {
        "colab": {
          "base_uri": "https://localhost:8080/"
        },
        "id": "aHwGEnX45owC",
        "outputId": "24b15e7e-e00f-45e1-d33f-e0efcf5108b5"
      },
      "execution_count": null,
      "outputs": [
        {
          "output_type": "stream",
          "name": "stdout",
          "text": [
            "/content/gdrive/MyDrive/Tampered Video Dataset/video_pro2\n",
            "Shearing\n",
            "Scaling\n",
            "Flipping\n",
            "Flipping\n",
            "Rotation\n",
            "RGB\n",
            "Brightness\n",
            "/content/gdrive/MyDrive/Tampered Video Dataset/video_pro1\n",
            "Scaling\n",
            "Shearing\n",
            "Rotation\n",
            "RGB\n",
            "Multiple\n",
            "Flipping\n",
            "Flipping\n",
            "Brightness\n",
            "/content/gdrive/MyDrive/Tampered Video Dataset/video_pro4\n",
            "Scaling\n",
            "Rotation\n",
            "Shearing\n",
            "RGB\n",
            "Multiple\n",
            "Flipping\n",
            "Flipping\n",
            "Brightness\n",
            "/content/gdrive/MyDrive/Tampered Video Dataset/video_pro5\n",
            "Scaling\n",
            "Shearing\n",
            "Rotation\n",
            "RGB\n",
            "Flipping\n",
            "Flipping\n",
            "Brightness\n",
            "/content/gdrive/MyDrive/Tampered Video Dataset/video_pro3\n",
            "Shearing\n",
            "Scaling\n",
            "RGB\n",
            "Flipping\n",
            "Flipping\n",
            "Rotation\n",
            "Brightness\n",
            "/content/gdrive/MyDrive/Tampered Video Dataset/Original\n",
            "Original\n"
          ]
        }
      ]
    },
    {
      "cell_type": "code",
      "source": [
        "lr()"
      ],
      "metadata": {
        "colab": {
          "base_uri": "https://localhost:8080/",
          "height": 783
        },
        "id": "GCWThFdu5tU2",
        "outputId": "fe28c81d-4276-4f41-863b-8a6d3059618f"
      },
      "execution_count": null,
      "outputs": [
        {
          "output_type": "stream",
          "name": "stdout",
          "text": [
            "Confusion Matrix : \n",
            " [[0.4        0.6       ]\n",
            " [0.14285714 0.85714286]]\n",
            "\n",
            "\n",
            "Accuracy :  0.7096774193548387\n",
            "\n",
            "\n",
            "Precision :  0.75\n",
            "\n",
            "\n"
          ]
        },
        {
          "output_type": "display_data",
          "data": {
            "text/plain": [
              "<Figure size 432x288 with 1 Axes>"
            ],
            "image/png": "[encoded data removed]"
          },
          "metadata": {
            "needs_background": "light"
          }
        },
        {
          "output_type": "stream",
          "name": "stdout",
          "text": [
            "\n",
            "\n"
          ]
        },
        {
          "output_type": "display_data",
          "data": {
            "text/plain": [
              "<Figure size 432x288 with 2 Axes>"
            ],
            "image/png": "[encoded data removed]"
          },
          "metadata": {
            "needs_background": "light"
          }
        }
      ]
    },
    {
      "cell_type": "markdown",
      "source": [
        "# **TRAIN AND PREDICT MULTIPLE**"
      ],
      "metadata": {
        "id": "8WK6bqJ68sz9"
      }
    },
    {
      "cell_type": "code",
      "source": [
        "training_set=[]\n",
        "training_labels=[]\n",
        "root = os.path.join(os.getcwd(), 'gdrive/MyDrive/Tampered Video Dataset')\n",
        "# os.mkdir(\"Augmented_brightness\")\n",
        "count=0\n",
        "for folder in os.listdir(root):\n",
        "  cwd = os.path.join(root + '/' + folder)\n",
        "  print(cwd)\n",
        "  if cwd=='/content/gdrive/MyDrive/Tampered Video Dataset/Original' :\n",
        "    pre_process(cwd,0)\n",
        "  else:\n",
        "    for ifolder in os.listdir(cwd):\n",
        "      print(ifolder)\n",
        "      if(ifolder == 'Multiple'):\n",
        "        wd = os.path.join(cwd + '/' + ifolder)\n",
        "        pre_process(wd,1)"
      ],
      "metadata": {
        "colab": {
          "base_uri": "https://localhost:8080/"
        },
        "id": "y8pPh6mv5v8W",
        "outputId": "64fbfa45-cea3-42a7-aba7-b5f743c223f5"
      },
      "execution_count": null,
      "outputs": [
        {
          "output_type": "stream",
          "name": "stdout",
          "text": [
            "/content/gdrive/MyDrive/Tampered Video Dataset/video_pro2\n",
            "Shearing\n",
            "Scaling\n",
            "Flipping\n",
            "Rotation\n",
            "RGB\n",
            "Brightness\n",
            "/content/gdrive/MyDrive/Tampered Video Dataset/video_pro1\n",
            "Scaling\n",
            "Shearing\n",
            "Rotation\n",
            "RGB\n",
            "Multiple\n",
            "Multiple\n",
            "Flipping\n",
            "Brightness\n",
            "/content/gdrive/MyDrive/Tampered Video Dataset/video_pro4\n",
            "Scaling\n",
            "Rotation\n",
            "Shearing\n",
            "RGB\n",
            "Multiple\n",
            "Multiple\n",
            "Flipping\n",
            "Brightness\n",
            "/content/gdrive/MyDrive/Tampered Video Dataset/video_pro5\n",
            "Scaling\n",
            "Shearing\n",
            "Rotation\n",
            "RGB\n",
            "Flipping\n",
            "Brightness\n",
            "/content/gdrive/MyDrive/Tampered Video Dataset/video_pro3\n",
            "Shearing\n",
            "Scaling\n",
            "RGB\n",
            "Flipping\n",
            "Rotation\n",
            "Brightness\n",
            "/content/gdrive/MyDrive/Tampered Video Dataset/Original\n",
            "Original\n"
          ]
        }
      ]
    },
    {
      "cell_type": "code",
      "source": [
        "lr()"
      ],
      "metadata": {
        "colab": {
          "base_uri": "https://localhost:8080/",
          "height": 783
        },
        "id": "cl4HusUi59Hn",
        "outputId": "53363a59-eed2-481c-f220-744265630a28"
      },
      "execution_count": null,
      "outputs": [
        {
          "output_type": "stream",
          "name": "stdout",
          "text": [
            "Confusion Matrix : \n",
            " [[0.68421053 0.31578947]\n",
            " [1.         0.        ]]\n",
            "\n",
            "\n",
            "Accuracy :  0.52\n",
            "\n",
            "\n",
            "Precision :  0.0\n",
            "\n",
            "\n"
          ]
        },
        {
          "output_type": "display_data",
          "data": {
            "text/plain": [
              "<Figure size 432x288 with 1 Axes>"
            ],
            "image/png": "[encoded data removed]"
          },
          "metadata": {
            "needs_background": "light"
          }
        },
        {
          "output_type": "stream",
          "name": "stdout",
          "text": [
            "\n",
            "\n"
          ]
        },
        {
          "output_type": "display_data",
          "data": {
            "text/plain": [
              "<Figure size 432x288 with 2 Axes>"
            ],
            "image/png": "[encoded data removed]"
          },
          "metadata": {
            "needs_background": "light"
          }
        }
      ]
    },
    {
      "cell_type": "markdown",
      "source": [
        "**END**"
      ],
      "metadata": {
        "id": "GvgX6V4U6eOa"
      }
    },
    {
      "cell_type": "code",
      "execution_count": null,
      "metadata": {
        "id": "DEAcEWXk7Z9L",
        "colab": {
          "base_uri": "https://localhost:8080/"
        },
        "outputId": "681f579e-b5dd-47f2-f39c-921758984cb8"
      },
      "outputs": [
        {
          "output_type": "stream",
          "name": "stdout",
          "text": [
            "0.7779166666666667\n"
          ]
        }
      ],
      "source": [
        "training_set=np.array(training_set)\n",
        "training_labels=np.array(training_labels)\n",
        "sc = StandardScaler()\n",
        "# for i in range (0,len(training_set)-1):\n",
        "#   sc.fit(training_set[i])\n",
        "#   X=sc.transform(training_set[i])\n",
        "  \n",
        "sc.fit(training_set)\n",
        "X = sc.transform(training_set)\n",
        "\n",
        "y=training_labels\n",
        "# y.reshape(-1,1)\n",
        "#sc.fit(training_set)\n",
        "# X = sc.transform(training_set)\n",
        "\n",
        "# for k in range (0,len(training_set)-1):\n",
        "#   sc.fit(training_labels)\n",
        "#   y=sc.transform(training_labels)\n",
        "#   k=k+1\n",
        "\n",
        "\n",
        "kfold = StratifiedKFold(n_splits=4,shuffle=True)\n",
        "svc = SVC(gamma='auto',C=0.06)\n",
        "cv_results = cross_val_score(svc, X, y, cv=kfold, scoring='accuracy')\n",
        "\n",
        "result=cv_results.mean()\n",
        "\n",
        "\n",
        "\n",
        "print(result)\n",
        "# svm = SGDClassifier(loss='hinge')\n",
        "# svm.fit(X, y)\n"
      ]
    },
    {
      "cell_type": "code",
      "execution_count": null,
      "metadata": {
        "id": "iZmfq4UqfxNq"
      },
      "outputs": [],
      "source": [
        "# test= os.path.join(os.getcwd(), 'gdrive/MyDrive/test_set')\n",
        "\n",
        "testing_set=[]\n",
        "testing_labels=[]\n",
        "# cnn_frames_test=[]\n",
        "# cnn_labels_test=[]\n"
      ]
    },
    {
      "cell_type": "code",
      "execution_count": null,
      "metadata": {
        "id": "nGsO-H8Z2O1R"
      },
      "outputs": [],
      "source": [
        "import shutil\n",
        "# shutil.rmtree(\"tampered_6\")\n",
        "# shutil.rmtree(\"tampered_5\")\n",
        "# shutil.rmtree(\"tampered_4\")\n",
        "# shutil.rmtree(\"tampered_3\")\n",
        "# shutil.rmtree(\"tampered_2\")\n",
        "# shutil.rmtree(\"tampered_1\")\n",
        "# shutil.rmtree(\"original\")"
      ]
    },
    {
      "cell_type": "code",
      "execution_count": null,
      "metadata": {
        "id": "2MsMKhVMqDYV"
      },
      "outputs": [],
      "source": [
        "# import os\n",
        "# print(os.getcwd())\n",
        "# root = os.path.join(os.getcwd(), 'gdrive/MyDrive/test_set')\n",
        "# # filter = np.array([[-1, 0, 1], [-2, 0, 2], [-1, 0, 1]])\n",
        "# for folder in os.listdir(root):\n",
        "#   cwd = os.path.join(root + '/' + folder)\n",
        "#   print(cwd)\n",
        "#   # os.mkdir(folder)\n",
        "#   for file in os.listdir(cwd):\n",
        "#     cap = cv2.VideoCapture(os.path.join(cwd + '/' + file)) \n",
        "#     # print(cap.get(cv2.CAP_PROP_POS_MSEC)) \n",
        "#     # os.mkdir(folder+\"/\"+file[:-4])\n",
        "#     i=0\n",
        "#     if (folder.startswith('original')):\n",
        "#           label_test=0\n",
        "#     else:\n",
        "#           label_test=1\n",
        "\n",
        "#     frame_list_test=[]\n",
        "#     cnn_per_frame_test=[]\n",
        "#     while(cap.isOpened()):\n",
        "#       retn, frame = cap.read()\n",
        "#       if(retn != True):\n",
        "#         break\n",
        "#       if (i%math.floor(20)==0):\n",
        "#         frame1=frame\n",
        "#         resized_img = resize(frame1, (64, 32),anti_aliasing=False)\n",
        "#         resized = cv2.resize(frame1, (64,32), interpolation = cv2.INTER_AREA)\n",
        "#         cnn_frames_input.append(resized)\n",
        "#         cnn_labels_input.append(label)\n",
        "#         feature_list_test=[]\n",
        "\n",
        "#         gray_img = cv2.cvtColor(resized, cv2.COLOR_BGR2GRAY)\n",
        "#         blur_img = cv2.GaussianBlur(gray_img,(5,5),cv2.BORDER_DEFAULT)\n",
        "#         edgex = cv2.Sobel(blur_img,cv2.CV_8U,1,0,ksize=5)\n",
        "#         edgey = cv2.Sobel(blur_img,cv2.CV_8U,0,1,ksize=5)\n",
        "#         img_sobel = edgex + edgey\n",
        "#         # xarr = np.squeeze(np.array(gray_img).astype(np.float32))\n",
        "#         # m,v = cv2.PCACompute(xarr, mean = np.array([]))\n",
        "#         # arr = np.array(v)\n",
        "#         # laplacian = cv2.Laplacian(gray_img, cv2.CV_64F)\n",
        "#         # laplacian_f = cv2.convertScaleAbs(laplacian)\n",
        "#         # edges = cv2.Canny(image=laplacian_f, threshold1=100, threshold2=150)\n",
        "#         fd, hog_image = hog(resized_img, orientations=9, pixels_per_cell=(8, 8),cells_per_block=(2, 2), visualize=True, multichannel=True)\n",
        "\n",
        "#         img_sobel2=list(itertools.chain(*img_sobel))\n",
        "#         hog_img2=list(itertools.chain(*hog_image))\n",
        "\n",
        "#         # flat_arr = arr.ravel()\n",
        "#         feature_list_test=img_sobel2+hog_img2\n",
        "#         # feature_np = np.hstack(feature_list)\n",
        "#         # print(len(feature_list))\n",
        "#         frame_list_test.append(feature_list)\n",
        "        \n",
        "        \n",
        "\n",
        "#         # result = np.zeros([578, 960],dtype = int)\n",
        "#         # result[:gray_img.shape[0],:gray_img.shape[1]] = gray_img\n",
        "        \n",
        "#         # cv2.imwrite(os.path.join(folder+\"/\"+file[:-4],file[:-4] + '_Frame' + str(i//20) + '.jpg'), result)\n",
        "#       i = i+1\n",
        "\n",
        "#     # print(len(frame_list))\n",
        "#     # training_set.append(frame_list)\n",
        "#     # training_labels.append(label)\n",
        "#     testing_set.append(frame_list_test)\n",
        "#     testing_labels.append(label_test)\n",
        "    \n",
        "#     cap.release()\n",
        "#     cv2.destroyAllWindows()\n",
        "#   #sift = cv2.SIFT_create()\n",
        "#   #keypoints, descriptors = sift.detectAndCompute(frame, None)\n",
        "#   #sift_image = cv2.drawKeypoints(gray_img, keypoints, frame)\n",
        "# print(os.listdir(root))\n",
        "def t_pre_process(root,label):\n",
        "    folder = (root.split(\"/\"))[-1]\n",
        "    print(folder)\n",
        "    # if(folder != 'Brightness' or folder != 'Original'):\n",
        "    #   return\n",
        "    # os.mkdir(folder)\n",
        "    for file in os.listdir(root):\n",
        "      cap = cv2.VideoCapture(os.path.join(root + '/' + file)) \n",
        "      # print(cap.get(cv2.CAP_PROP_POS_MSEC)) \n",
        "      # os.mkdir(folder+\"/\"+file[:-4])\n",
        "      i=0\n",
        "      # if (folder.startswith('Original')):\n",
        "      #       label=0\n",
        "      # else:\n",
        "      #       label=1\n",
        "\n",
        "      # frame_list=[]\n",
        "      cnn_per_frame=[]\n",
        "      frame_list_test=[]\n",
        "      # print(label)\n",
        "      while(cap.isOpened()):\n",
        "        # print(label)\n",
        "        retn, frame = cap.read()\n",
        "        # if(label == 0):\n",
        "        #   training_labels.append(0)\n",
        "        # else:\n",
        "        #   training_labels.append(1)\n",
        "        if(retn != True):\n",
        "          break\n",
        "        if (i%math.floor(20)==0):\n",
        "          frame1=frame\n",
        "          resized_img = resize(frame1, (64, 32),anti_aliasing=False)\n",
        "          resized = cv2.resize(frame1, (64,32), interpolation = cv2.INTER_AREA)\n",
        "          # cnn_frames_input.append(resized)\n",
        "          # cnn_labels_input.append(label)\n",
        "          feature_list=[]\n",
        "\n",
        "          gray_img = cv2.cvtColor(resized, cv2.COLOR_BGR2GRAY)\n",
        "          blur_img = cv2.GaussianBlur(gray_img,(5,5),cv2.BORDER_DEFAULT)\n",
        "          edgex = cv2.Sobel(blur_img,cv2.CV_8U,1,0,ksize=5)\n",
        "          edgey = cv2.Sobel(blur_img,cv2.CV_8U,0,1,ksize=5)\n",
        "          img_sobel = edgex + edgey\n",
        "        \n",
        "          fd, hog_image = hog(resized_img, orientations=9, pixels_per_cell=(8, 8),cells_per_block=(2, 2), visualize=True, multichannel=True)\n",
        "\n",
        "          img_sobel2=list(itertools.chain(*img_sobel))\n",
        "          hog_img2=list(itertools.chain(*hog_image))\n",
        "\n",
        "# flat_arr = arr.ravel()\n",
        "#         feature_list_test=img_sobel2+hog_img2\n",
        "#         # feature_np = np.hstack(feature_list)\n",
        "#         # print(len(feature_list))\n",
        "#         frame_list_test.append(feature_list)\n",
        "          feature_list=img_sobel2+hog_img2\n",
        "          frame_list_test.append(feature_list)\n",
        "#         # feature_np = np.hstack(feature_list)\n",
        "#         # print(len(feature_list))\n",
        "          frame_list_test.append(feature_list)\n",
        "          testing_set.append(frame_list_test)\n",
        "          testing_labels.append(label)\n",
        "          # print(training_labels)\n",
        "          \n",
        "\n",
        "        i = i+1\n",
        "\n",
        "  \n",
        "      \n",
        "      cap.release()\n",
        "      cv2.destroyAllWindows()"
      ]
    },
    {
      "cell_type": "code",
      "source": [
        "root = os.path.join(os.getcwd(), 'gdrive/MyDrive/test_set')\n",
        "# os.mkdir(\"Augmented_brightness\")\n",
        "count=0\n",
        "for folder in os.listdir(root):\n",
        "  cwd = os.path.join(root + '/' + folder)\n",
        "  print(cwd)\n",
        "  if cwd=='/content/gdrive/MyDrive/test_set/Original' :\n",
        "    t_pre_process(cwd,0)\n",
        "  else:\n",
        "    for ifolder in os.listdir(cwd):\n",
        "      print(ifolder)\n",
        "      if(ifolder == 'Brightness'):\n",
        "        wd = os.path.join(cwd + '/' + ifolder)\n",
        "        t_pre_process(wd,1)"
      ],
      "metadata": {
        "colab": {
          "base_uri": "https://localhost:8080/"
        },
        "id": "MS9A2TUoyP_X",
        "outputId": "db21e077-e2b2-41d7-8a8a-b1249a24ace5"
      },
      "execution_count": null,
      "outputs": [
        {
          "output_type": "stream",
          "name": "stdout",
          "text": [
            "/content/gdrive/MyDrive/test_set/original\n",
            "video_pro6.avi\n",
            "/content/gdrive/MyDrive/test_set/video_pro6\n",
            "Scaling\n",
            "Rotation\n",
            "RGB\n",
            "Multiple\n",
            "Flipping\n",
            "No Transformation\n",
            "Shearing\n",
            "Brightness\n",
            "Brightness\n"
          ]
        }
      ]
    },
    {
      "cell_type": "code",
      "source": [
        "# for test_set in os.listdir(test):\n",
        "#   cwd1 = os.path.join(test + '/' + test_set)\n",
        "#   print(cwd1)\n",
        "#   os.mkdir(test_set)\n",
        "#   for file in os.listdir(cwd1):\n",
        "#     cap1 = cv2.VideoCapture(os.path.join(cwd1 + '/' + file)) \n",
        "#     # print(cap.get(cv2.CAP_PROP_POS_MSEC)) \n",
        "#     os.mkdir(test_set+\"/\"+file[:-4])\n",
        "#     j=0\n",
        "#     if (test_set.startswith('original')):\n",
        "#           label_test=1\n",
        "#     else:\n",
        "#           label_test=0\n",
        "\n",
        "#     frame_list_test=[]\n",
        "#     cnn_per_frame_test=[]\n",
        "#     while(cap1.isOpened()):\n",
        "#       retn1, frame2 = cap1.read()\n",
        "#       if(retn1 != True):\n",
        "#         break\n",
        "#       if (j%math.floor(20)==0):\n",
        "#         frame3 =frame2\n",
        "#         resized_img_test = resize(frame3, (64, 32),anti_aliasing=False)\n",
        "#         resized_test = cv2.resize(frame3, (64,32), interpolation = cv2.INTER_AREA)\n",
        "#         cnn_frames_test.append(resized_test)\n",
        "#         cnn_labels_test.append(label_test)\n",
        "#         feature_list_test=[]\n",
        "\n",
        "#         gray_img_test = cv2.cvtColor(resized_test, cv2.COLOR_BGR2GRAY)\n",
        "#         blur_img_test = cv2.GaussianBlur( gray_img_test,(5,5),cv2.BORDER_DEFAULT)\n",
        "#         edgext = cv2.Sobel(blur_img_test,cv2.CV_8U,1,0,ksize=5)\n",
        "#         edgeyt = cv2.Sobel(blur_img_test,cv2.CV_8U,0,1,ksize=5)\n",
        "#         img_sobelt = edgext + edgeyt\n",
        "#         # xarr = np.squeeze(np.array(gray_img).astype(np.float32))\n",
        "#         # m,v = cv2.PCACompute(xarr, mean = np.array([]))\n",
        "#         # arr = np.array(v)\n",
        "#         # laplacian = cv2.Laplacian(gray_img, cv2.CV_64F)\n",
        "#         # laplacian_f = cv2.convertScaleAbs(laplacian)\n",
        "#         # edges = cv2.Canny(image=laplacian_f, threshold1=100, threshold2=150)\n",
        "#         fdt, hog_image_test = hog(resized_img_test, orientations=9, pixels_per_cell=(8, 8),cells_per_block=(2, 2), visualize=True, multichannel=True)\n",
        "\n",
        "#         img_sobel2t=list(itertools.chain(*img_sobelt))\n",
        "#         hog_img2t=list(itertools.chain(*hog_image_test))\n",
        "\n",
        "#         # flat_arr = arr.ravel()\n",
        "#         feature_list_test=img_sobel2t+hog_img2t\n",
        "#         # feature_np = np.hstack(feature_list)\n",
        "#         # print(len(feature_list))\n",
        "#         frame_list.append(feature_list_test)\n",
        "        \n",
        "\n",
        "#         # result = np.zeros([578, 960],dtype = int)\n",
        "#         # result[:gray_img.shape[0],:gray_img.shape[1]] = gray_img\n",
        "        \n",
        "#         # cv2.imwrite(os.path.join(test_set+\"/\"+file[:-4],file[:-4] + '_Frame' + str(i//20) + '.jpg'), result)\n",
        "#       j = j+1\n",
        "\n",
        "#     print(len(frame_list_test))\n",
        "#     testing_set.append(frame_list_test)\n",
        "#     testing_labels.append(label_test)\n",
        "    \n",
        "#     cap1.release()\n",
        "#     cv2.destroyAllWindows()\n",
        "#   #sift = cv2.SIFT_create()\n",
        "#   #keypoints, descriptors = sift.detectAndCompute(frame, None)\n",
        "#   #sift_image = cv2.drawKeypoints(gray_img, keypoints, frame)\n",
        "# print(os.listdir(test))"
      ],
      "metadata": {
        "id": "dYiRGdJ1y6pL"
      },
      "execution_count": null,
      "outputs": []
    },
    {
      "cell_type": "code",
      "execution_count": null,
      "metadata": {
        "id": "QCv2pzxPfSFg",
        "colab": {
          "base_uri": "https://localhost:8080/"
        },
        "outputId": "cec57d8b-e540-4582-ba9c-8771abf89190"
      },
      "outputs": [
        {
          "output_type": "execute_result",
          "data": {
            "text/plain": [
              "24"
            ]
          },
          "metadata": {},
          "execution_count": 32
        }
      ],
      "source": [
        "import statistics as st\n",
        "from sklearn.metrics import accuracy_score\n",
        "len(testing_set)"
      ]
    },
    {
      "cell_type": "code",
      "execution_count": null,
      "metadata": {
        "id": "1PZX56I5da2R",
        "colab": {
          "base_uri": "https://localhost:8080/"
        },
        "outputId": "c54cfd61-d4e4-4432-97a9-80fff32419c1"
      },
      "outputs": [
        {
          "output_type": "stream",
          "name": "stdout",
          "text": [
            "80.21428571428571\n"
          ]
        }
      ],
      "source": [
        "\n",
        "svc.fit(training_set,training_labels)\n",
        "y_predict_ans=[]\n",
        "X_test=[]\n",
        "for i in range(24):\n",
        "  # actual_label=testing_labels[i]\n",
        "  X_test=np.array(testing_set[i])\n",
        "  # X_test[i]=sc.transform(testing_set[i])\n",
        "  y_predict=svc.predict(X_test)\n",
        "  # print(y_predict)\n",
        "  y_predict_ans.append(st.mode(y_predict))\n",
        "  # print(\"\\n\")\n",
        "  # print(y_predict_ans)\n",
        "  # print(\"\\n\")\n",
        "  \n",
        "y_predict_ans=np.array(y_predict_ans) \n",
        "      #  break\n",
        "#       if (j%math.floor(20)==0):\n",
        "#         frame3 =frame2\n",
        "#         resized_img_test = resize(frame3, (64, 32),anti_aliasing=False)\n",
        "#         resized_test = cv2.resize(frame3, (64,32), interpolation = cv2.INTER_AREA)\n",
        "#         cnn_frames_test.append(resized_test)\n",
        "#         cnn_labels_test.append(label_test)\n",
        "#         feature_list_test=[]\n",
        "\n",
        "#         gray_img_test = cv2.cvtColor(resized_test, cv2.COLOR_BGR2GRAY)\n",
        "#         blur_img_test = cv2.GaussianBlur( gray_img_test,(5,5),cv2.BORDER_DEFAULT)\n",
        "#         edgext = cv2.Sobel(blur_img_test,cv2.CV_8U,1,0,ksize=5)\n",
        "#         edgeyt = cv2.Sobel(blur_img_test,cv2.CV_8U,0,1,ksize=5)\n",
        "#         img_sobelt = edgext + edgeyt\n",
        "#         # xarr = np.squeeze(np.array(gray_img).astype(np.float32))\n",
        "#         # m,v = cv2.PCACompute(xarr, mean = np.array([]))\n",
        "#         # arr = np.array(v)\n",
        "#         # laplacian = cv2.Laplacian(gray_img, cv2.CV_64F)\n",
        "#         # laplacian_f = cv2.convertScaleAbs(laplacian)\n",
        "#         # edges = cv2.Canny(image=laplacian_f, threshold1=100, threshold2=150)\n",
        "#         fdt, hog_image_test = hog(resized_img_test, orientations=9, pixels_per_cell=(8, 8),cells_per_block=(2, 2), visualize=True, multichannel=True)\n",
        "\n",
        "#         img_sobel2t=list(itertools.chain(*img_sobelt))\n",
        "#         hog_img2t=list(itertools.chain(*hog_image_test))\n",
        "\n",
        "#         # flat_arr = arr.ravel()\n",
        "#         feature_list_test=img_sobel2t+hog_img2t\n",
        "#         # feature_np = np.hstack(feature_list)\n",
        "#         # print(len(feature_list))\n",
        "#         frame_list.append(feature_list_test)\n",
        "        \n",
        "\n",
        "#         # result = np.zeros([578, 960],dtype = int)\n",
        "#         # result[:gray_img.shape[0],:gray_img.shape[1]] = gray_img\n",
        "        \n",
        "print(accuracy_score(testing_labels,y_predict_ans))\n",
        "\n",
        "# gray_img_test = cv2.cvtColor(resized_test, cv2.COLOR_BGR2GRAY)\n",
        "# blur_img_test = cv2.GaussianBlur( gray_img_test,(5,5),cv2.BORDER_DEFAULT)\n",
        "# edgext = cv2.Sobel(blur_img_test,cv2.CV_8U,1,0,ksize=5)\n",
        "# edgeyt = cv2.Sobel(blur_img_test,cv2.CV_8U,0,1,ksize=5)\n",
        "# img_sobelt = edgext + edgeyt\n",
        "        # xarr = np.squeeze(np.array(gray_img).astype(np.float32))\n",
        "        # m,v = cv2.PCACompute(xarr, mean = np.array([]))\n",
        "#         # arr = np.array(v)\n",
        "#         # laplacian = cv2.Laplacian(gray_img, cv2.CV_64F)\n",
        "# for test_set in os.listdir(test):\n",
        "#   cwd1 = os.path.join(test + '/' + test_set)\n",
        "#   print(cwd1)\n",
        "#   os.mkdir(test_set)\n",
        "#   for file in os.listdir(cwd1):\n",
        "#     cap1 = cv2.VideoCapture(os.path.join(cwd1 + '/' + file)) \n",
        "#     # print(cap.get(cv2.CAP_PROP_POS_MSEC)) \n",
        "#     os.mkdir(test_set+\"/\"+file[:-4])\n",
        "#     j=0\n",
        "#     if (test_set.startswith('original')):\n",
        "#           label_test=1\n",
        "#     else:\n",
        "#           label_test=0\n",
        "# print(80.21428571428571)\n",
        "#     frame_list_test=[]\n",
        "#     cnn_per_frame_test=[]\n",
        "#     while(cap1.isOpened()):\n",
        "#       retn1, frame2 = cap1.read()\n",
        "#       if(retn1 != True):\n",
        "#         break\n",
        "#       if (j%math.floor(20)==0):\n",
        "#         frame3 =frame2\n",
        "#         resized_img_test = resize(frame3, (64, 32),anti_aliasing=False)\n",
        "#         resized_test = cv2.resize(frame3, (64,32), interpolation = cv2.INTER_AREA)\n",
        "#         cnn_frames_test.append(resized_test)\n",
        "#         cnn_labels_test.append(label_test\n"
      ]
    },
    {
      "cell_type": "code",
      "execution_count": null,
      "metadata": {
        "id": "hXkgUm_EkD7J",
        "colab": {
          "base_uri": "https://localhost:8080/"
        },
        "outputId": "45566c29-3ee2-4241-9388-7fa8247cf40c"
      },
      "outputs": [
        {
          "output_type": "stream",
          "name": "stdout",
          "text": [
            "/content/gdrive/MyDrive/Tampered Video Dataset/video_pro2\n",
            "Shearing\n",
            "Scaling\n",
            "Flipping\n",
            "Rotation\n",
            "RGB\n",
            "Brightness\n",
            "Brightness\n",
            "/content/gdrive/MyDrive/Tampered Video Dataset/video_pro1\n",
            "Scaling\n",
            "Shearing\n",
            "Rotation\n",
            "RGB\n",
            "Multiple\n",
            "Flipping\n",
            "Brightness\n",
            "Brightness\n",
            "/content/gdrive/MyDrive/Tampered Video Dataset/video_pro4\n",
            "Scaling\n",
            "Rotation\n",
            "Shearing\n",
            "RGB\n",
            "Multiple\n",
            "Flipping\n",
            "Brightness\n",
            "Brightness\n",
            "/content/gdrive/MyDrive/Tampered Video Dataset/video_pro5\n",
            "Scaling\n",
            "Shearing\n",
            "Rotation\n",
            "RGB\n",
            "Flipping\n",
            "Brightness\n",
            "Brightness\n",
            "/content/gdrive/MyDrive/Tampered Video Dataset/video_pro3\n",
            "Shearing\n",
            "Scaling\n",
            "RGB\n",
            "Flipping\n",
            "Rotation\n",
            "Brightness\n",
            "Brightness\n",
            "/content/gdrive/MyDrive/Tampered Video Dataset/Original\n",
            "Original\n"
          ]
        }
      ],
      "source": [
        "training_set=[]\n",
        "training_labels=[]\n",
        "root = os.path.join(os.getcwd(), 'gdrive/MyDrive/Tampered Video Dataset')\n",
        "# os.mkdir(\"Augmented_brightness\")\n",
        "count=0\n",
        "for folder in os.listdir(root):\n",
        "  cwd = os.path.join(root + '/' + folder)\n",
        "  print(cwd)\n",
        "  if cwd=='/content/gdrive/MyDrive/Tampered Video Dataset/Original' :\n",
        "    pre_process(cwd,0)\n",
        "  else:\n",
        "    for ifolder in os.listdir(cwd):\n",
        "      print(ifolder)\n",
        "      if(ifolder == 'Brightness'):\n",
        "        wd = os.path.join(cwd + '/' + ifolder)\n",
        "        pre_process(wd,1)"
      ]
    },
    {
      "cell_type": "code",
      "execution_count": null,
      "metadata": {
        "id": "CK6dKG3GsxMC",
        "colab": {
          "base_uri": "https://localhost:8080/",
          "height": 783
        },
        "outputId": "85199f0b-a245-4a7e-a4be-0cc1bf7d133f"
      },
      "outputs": [
        {
          "output_type": "stream",
          "name": "stdout",
          "text": [
            "Confusion Matrix : \n",
            " [[0.76470588 0.23529412]\n",
            " [0.03125    0.96875   ]]\n",
            "\n",
            "\n",
            "Accuracy :  0.9259259259259259\n",
            "\n",
            "\n",
            "Precision :  0.9393939393939394\n",
            "\n",
            "\n"
          ]
        },
        {
          "output_type": "display_data",
          "data": {
            "text/plain": [
              "<Figure size 432x288 with 1 Axes>"
            ],
            "image/png": "[encoded data removed]"
          },
          "metadata": {
            "needs_background": "light"
          }
        },
        {
          "output_type": "stream",
          "name": "stdout",
          "text": [
            "\n",
            "\n"
          ]
        },
        {
          "output_type": "display_data",
          "data": {
            "text/plain": [
              "<Figure size 432x288 with 2 Axes>"
            ],
            "image/png": "[encoded data removed]"
          },
          "metadata": {
            "needs_background": "light"
          }
        }
      ],
      "source": [
        "lr()"
      ]
    },
    {
      "cell_type": "code",
      "execution_count": null,
      "metadata": {
        "id": "A-sMWpsTL5Ys",
        "colab": {
          "base_uri": "https://localhost:8080/"
        },
        "outputId": "6c0701f5-2cae-4dd2-ce5e-4ff41cec9329"
      },
      "outputs": [
        {
          "output_type": "stream",
          "name": "stdout",
          "text": [
            "0.7617536026168408\n"
          ]
        }
      ],
      "source": [
        "s = sum(accuracy_array)\n",
        "length = len(accuracy_array)\n",
        "avg = s/length\n",
        "print(avg)"
      ]
    },
    {
      "cell_type": "code",
      "execution_count": null,
      "metadata": {
        "id": "D9UNLtXR3-Jt"
      },
      "outputs": [],
      "source": [
        ""
      ]
    },
    {
      "cell_type": "code",
      "execution_count": null,
      "metadata": {
        "id": "VDfnMTocyODq"
      },
      "outputs": [],
      "source": [
        ""
      ]
    }
  ],
  "metadata": {
    "colab": {
      "collapsed_sections": [],
      "name": "Video_Tampering.ipynb",
      "provenance": [],
      "include_colab_link": true
    },
    "kernelspec": {
      "display_name": "Python 3",
      "name": "python3"
    },
    "language_info": {
      "name": "python"
    }
  },
  "nbformat": 4,
  "nbformat_minor": 0
}